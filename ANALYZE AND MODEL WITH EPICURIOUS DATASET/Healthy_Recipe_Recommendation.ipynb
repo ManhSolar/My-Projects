{
  "metadata": {
    "kernelspec": {
      "language": "python",
      "display_name": "Python 3",
      "name": "python3"
    },
    "language_info": {
      "pygments_lexer": "ipython3",
      "nbconvert_exporter": "python",
      "version": "3.6.4",
      "file_extension": ".py",
      "codemirror_mode": {
        "name": "ipython",
        "version": 3
      },
      "name": "python",
      "mimetype": "text/x-python"
    },
    "colab": {
      "provenance": []
    }
  },
  "nbformat_minor": 0,
  "nbformat": 4,
  "cells": [
    {
      "cell_type": "markdown",
      "source": [
        "<h2 style=\"text-align:center;font-size:200%;\">\n",
        "    <b>Healthy Recipe Recommendation</b>\n",
        "</h2>\n",
        "<h3  style=\"text-align:center;\">Keywords :\n",
        "    <span style=\"border-radius:7px;background-color:limegreen;color:white;padding:7px;\">Health</span>\n",
        "    <span style=\"border-radius:7px;background-color:limegreen;color:white;padding:7px;\">Food</span>\n",
        "    <span style=\"border-radius:7px;background-color:limegreen;color:white;padding:7px;\">Recommendation</span>\n",
        "    <span style=\"border-radius:7px;background-color:limegreen;color:white;padding:7px;\">Optimization</span>\n",
        "    <span style=\"border-radius:7px;background-color:limegreen;color:white;padding:7px;\">PuLP</span>\n",
        "</h3>\n",
        "\n",
        "<hr>\n",
        "\n",
        "<h2 style=\"font-size:150%;\"><span id='top'>Table of Contents</span></h2>\n",
        "<blockquote>\n",
        "    <ol>\n",
        "        <li><a href=\"#Overview\">Overview</a></li>\n",
        "        <ul>\n",
        "            <li><a href=\"#About-the-Dataset\">About the Dataset</a></li>\n",
        "            <li><a href=\"#What-You-Get-from-this-Notebook\">What You Get from this Notebook</a></li>\n",
        "        </ul>\n",
        "        <li><a href=\"#Preparation\">Preparation</a></li>\n",
        "        <li><a href=\"#Data-Load\">Data Load</a></li>\n",
        "        <li><a href=\"#Pre-Processing\">Pre-Processing</a></li>\n",
        "        <ul>\n",
        "            <li><a href=\"#Delete-Null-Rows-in-Certain-Columns\">Delete Null Rows in Certain Columns</a></li>\n",
        "            <li><a href=\"#Extract-Certain-Columns\">Extract Certain Columns</a></li>\n",
        "            <li><a href=\"#Add-Recipe-Information\">Add Recipe Information</a></li>\n",
        "        </ul>\n",
        "        <li><a href=\"#EDA\">EDA</a></li>\n",
        "        <ul>\n",
        "            <li><a href=\"#Basic-Information\">Basic Information</a></li>\n",
        "            <li><a href=\"#Rating\">Rating</a></li>\n",
        "            <li><a href=\"#Nutrients\">Nutrients</a></li>\n",
        "            <li><a href=\"#Flags\">Flags</a></li>\n",
        "            <li><a href=\"#Other-Information\">Other Information</a></li>\n",
        "        </ul>\n",
        "        <li><a href=\"#Recommendation\">Recommendation</a></li>\n",
        "        <ul>\n",
        "            <li><a href=\"#Recommendation-Function\">Recommendation Function</a></li>\n",
        "            <li><a href=\"#Nutrients-Condition\">Nutrients Condition</a></li>\n",
        "            <ul>\n",
        "                <li><a href=\"#Male\">Male</a></li>\n",
        "                <li><a href=\"#Female\">Female</a></li>\n",
        "            </ul>\n",
        "            <li><a href=\"#Recipes-for-YOU\">Recipes for YOU</a></li>\n",
        "            <ul>\n",
        "                <li><a href=\"#Adult-Male\">Adult Male</a></li>\n",
        "                <li><a href=\"#Adult-Female\">Adult Female</a></li>\n",
        "                <li><a href=\"#Man-in-Summer\">Man in Summer</a></li>\n",
        "                <li><a href=\"#Man-in-Winter\">Man in Winter</a></li>\n",
        "                <li><a href=\"#Man-at-Breakfast\">Man at Breakfast</a></li>\n",
        "                <li><a href=\"#Man-with-Low-Calory\">Man with Low Calory</a></li>\n",
        "                <li><a href=\"#Man-in-Busy-Day\">Man in Busy Day</a></li>\n",
        "            </ul>\n",
        "        </ul>\n",
        "        <li><a href=\"#References\">References</a></li>\n",
        "    </ol>\n",
        "</blockquote>"
      ],
      "metadata": {
        "id": "s3cHmHUiFd-u"
      }
    },
    {
      "cell_type": "markdown",
      "source": [
        "<button class=\"label alert-success\" style=\"border-radius:10px;padding:10px;font-size:18px\"><a href=\"#top\" style=\"color:green;\"><b>Table of Contents</b></a></button>"
      ],
      "metadata": {
        "id": "4hMEPv2VFd-v"
      }
    },
    {
      "cell_type": "markdown",
      "source": [
        "# Overview\n",
        "## About the Dataset\n",
        "- 20k recipes listed by recipe **rating**, nutritional information and assigned categories\n",
        "- Recipes extracted from [Epicurious ](http://www.epicurious.com/recipes-menus)\n",
        "- Kaggle Dataset Page : [Epicurious - Recipes with Rating and Nutrition](https://www.kaggle.com/datasets/hugodarwood/epirecipes)\n",
        "\n",
        "## What You Get from this Notebook\n",
        "- EDA & Visualization\n",
        "- Mathematical Optimization\n",
        "    - Python Optimization Library : [PuLP](https://coin-or.github.io/pulp/)\n",
        "    - In this notebook, I applied **mathematical optimazation** to **food recommendation**\n",
        "- Food Recommendation\n",
        "    - [Recommendation of healthy food](#Recommendation-Function) tailored to the each person's health status\n",
        "    - Foods were recommended based on [official standard nutritions value](#Nutrients-Condition) (Japan)\n",
        "    - Optimal foods for some situations\n",
        "        - Seasons ([Summer](#Man-in-Summer), [Winter](Man-in-Winter))\n",
        "        - Mealtime ([Breakfast](#Man-at-Breakfast), Dinner)"
      ],
      "metadata": {
        "id": "FL2B3C2GFd-v"
      }
    },
    {
      "cell_type": "markdown",
      "source": [
        "<button class=\"label alert-success\" style=\"border-radius:10px;padding:10px;font-size:18px\"><a href=\"#top\" style=\"color:green;\"><b>Table of Contents</b></a></button>"
      ],
      "metadata": {
        "id": "E9Tq9Av-Fd-w"
      }
    },
    {
      "cell_type": "markdown",
      "source": [
        "# Preparation"
      ],
      "metadata": {
        "id": "HaMBbVdAFd-w"
      }
    },
    {
      "cell_type": "code",
      "source": [
        "import numpy as np\n",
        "import pandas as pd\n",
        "import os\n",
        "import holoviews as hv\n",
        "from holoviews import opts\n",
        "hv.extension('bokeh')\n",
        "import json\n",
        "from pandarallel import pandarallel\n",
        "pandarallel.initialize(progress_bar=True)\n",
        "import pulp as pl\n",
        "import warnings\n",
        "warnings.simplefilter(action='ignore')\n",
        "\n",
        "for dirname, _, filenames in os.walk('/kaggle/input'):\n",
        "    for filename in filenames:\n",
        "        print(os.path.join(dirname, filename))"
      ],
      "metadata": {
        "_uuid": "8f2839f25d086af736a60e9eeb907d3b93b6e0e5",
        "_cell_guid": "b1076dfc-b9ad-4769-8c92-a6c4dae69d19",
        "_kg_hide-output": true,
        "execution": {
          "iopub.status.busy": "2022-05-20T00:17:46.002314Z",
          "iopub.execute_input": "2022-05-20T00:17:46.002678Z",
          "iopub.status.idle": "2022-05-20T00:17:49.144813Z",
          "shell.execute_reply.started": "2022-05-20T00:17:46.002586Z",
          "shell.execute_reply": "2022-05-20T00:17:49.144061Z"
        },
        "trusted": true,
        "id": "wFLJVS5mFd-w"
      },
      "execution_count": null,
      "outputs": []
    },
    {
      "cell_type": "markdown",
      "source": [
        "<button class=\"label alert-success\" style=\"border-radius:10px;padding:10px;font-size:18px\"><a href=\"#top\" style=\"color:green;\"><b>Table of Contents</b></a></button>"
      ],
      "metadata": {
        "id": "l0EPzIV6Fd-w"
      }
    },
    {
      "cell_type": "markdown",
      "source": [
        "# Data Load"
      ],
      "metadata": {
        "id": "v_rjHM4EFd-w"
      }
    },
    {
      "cell_type": "code",
      "source": [
        "df = pd.read_csv(\"/kaggle/input/epirecipes/epi_r.csv\")\n",
        "df.head(3)"
      ],
      "metadata": {
        "execution": {
          "iopub.status.busy": "2022-05-14T01:19:43.948376Z",
          "iopub.execute_input": "2022-05-14T01:19:43.949125Z",
          "iopub.status.idle": "2022-05-14T01:19:46.447759Z",
          "shell.execute_reply.started": "2022-05-14T01:19:43.949088Z",
          "shell.execute_reply": "2022-05-14T01:19:46.446856Z"
        },
        "trusted": true,
        "id": "s1iTaovwFd-x"
      },
      "execution_count": null,
      "outputs": []
    },
    {
      "cell_type": "code",
      "source": [
        "df.shape"
      ],
      "metadata": {
        "execution": {
          "iopub.status.busy": "2022-05-14T01:19:46.448777Z",
          "iopub.execute_input": "2022-05-14T01:19:46.448991Z",
          "iopub.status.idle": "2022-05-14T01:19:46.454256Z",
          "shell.execute_reply.started": "2022-05-14T01:19:46.448966Z",
          "shell.execute_reply": "2022-05-14T01:19:46.453491Z"
        },
        "trusted": true,
        "id": "dsbCq4_nFd-x"
      },
      "execution_count": null,
      "outputs": []
    },
    {
      "cell_type": "code",
      "source": [
        "for i,j in enumerate(df.columns):\n",
        "    print(f\"{i} : {j}\")"
      ],
      "metadata": {
        "scrolled": true,
        "_kg_hide-output": true,
        "execution": {
          "iopub.status.busy": "2022-05-14T01:19:46.456234Z",
          "iopub.execute_input": "2022-05-14T01:19:46.456508Z",
          "iopub.status.idle": "2022-05-14T01:19:46.56678Z",
          "shell.execute_reply.started": "2022-05-14T01:19:46.45648Z",
          "shell.execute_reply": "2022-05-14T01:19:46.565879Z"
        },
        "trusted": true,
        "id": "YlJ1-SMDFd-x"
      },
      "execution_count": null,
      "outputs": []
    },
    {
      "cell_type": "code",
      "source": [
        "with open(\"/kaggle/input/epirecipes/full_format_recipes.json\",\"r\") as f:\n",
        "    full_recipe = json.load(f)"
      ],
      "metadata": {
        "execution": {
          "iopub.status.busy": "2022-05-14T01:19:46.569969Z",
          "iopub.execute_input": "2022-05-14T01:19:46.570343Z",
          "iopub.status.idle": "2022-05-14T01:19:47.800039Z",
          "shell.execute_reply.started": "2022-05-14T01:19:46.570267Z",
          "shell.execute_reply": "2022-05-14T01:19:47.799147Z"
        },
        "trusted": true,
        "id": "3NG2xB6HFd-x"
      },
      "execution_count": null,
      "outputs": []
    },
    {
      "cell_type": "code",
      "source": [
        "len(full_recipe)"
      ],
      "metadata": {
        "execution": {
          "iopub.status.busy": "2022-05-14T01:19:47.801371Z",
          "iopub.execute_input": "2022-05-14T01:19:47.801619Z",
          "iopub.status.idle": "2022-05-14T01:19:47.809068Z",
          "shell.execute_reply.started": "2022-05-14T01:19:47.80159Z",
          "shell.execute_reply": "2022-05-14T01:19:47.808254Z"
        },
        "trusted": true,
        "id": "DwiECdqZFd-x"
      },
      "execution_count": null,
      "outputs": []
    },
    {
      "cell_type": "code",
      "source": [
        "print(json.dumps(full_recipe[0:2], indent=2))"
      ],
      "metadata": {
        "_kg_hide-output": true,
        "scrolled": true,
        "execution": {
          "iopub.status.busy": "2022-05-14T01:19:47.810145Z",
          "iopub.execute_input": "2022-05-14T01:19:47.810682Z",
          "iopub.status.idle": "2022-05-14T01:19:47.818147Z",
          "shell.execute_reply.started": "2022-05-14T01:19:47.810647Z",
          "shell.execute_reply": "2022-05-14T01:19:47.81734Z"
        },
        "trusted": true,
        "id": "PSev7ga2Fd-x"
      },
      "execution_count": null,
      "outputs": []
    },
    {
      "cell_type": "markdown",
      "source": [
        "<button class=\"label alert-success\" style=\"border-radius:10px;padding:10px;font-size:18px\"><a href=\"#top\" style=\"color:green;\"><b>Table of Contents</b></a></button>"
      ],
      "metadata": {
        "id": "1n07KnjLFd-x"
      }
    },
    {
      "cell_type": "markdown",
      "source": [
        "# Pre-Processing"
      ],
      "metadata": {
        "id": "KRSMofQ2Fd-x"
      }
    },
    {
      "cell_type": "markdown",
      "source": [
        "## Delete Null Rows in Certain Columns"
      ],
      "metadata": {
        "id": "jMVnge9ZFd-x"
      }
    },
    {
      "cell_type": "code",
      "source": [
        "df[[\"title\",\"rating\",\"calories\",\"protein\",\"fat\",\"sodium\"]].head(3)"
      ],
      "metadata": {
        "execution": {
          "iopub.status.busy": "2022-05-14T01:19:47.819217Z",
          "iopub.execute_input": "2022-05-14T01:19:47.819485Z",
          "iopub.status.idle": "2022-05-14T01:19:47.840149Z",
          "shell.execute_reply.started": "2022-05-14T01:19:47.819435Z",
          "shell.execute_reply": "2022-05-14T01:19:47.83956Z"
        },
        "trusted": true,
        "id": "_58SSnjZFd-x"
      },
      "execution_count": null,
      "outputs": []
    },
    {
      "cell_type": "code",
      "source": [
        "df_p1 = df[df[[\"title\",\"rating\",\"calories\",\"protein\",\"fat\",\"sodium\"]].isnull().any(axis=1)==False].reset_index(drop=True)\n",
        "df_p1.head()"
      ],
      "metadata": {
        "execution": {
          "iopub.status.busy": "2022-05-14T01:19:47.841303Z",
          "iopub.execute_input": "2022-05-14T01:19:47.841526Z",
          "iopub.status.idle": "2022-05-14T01:19:47.952462Z",
          "shell.execute_reply.started": "2022-05-14T01:19:47.841501Z",
          "shell.execute_reply": "2022-05-14T01:19:47.951582Z"
        },
        "trusted": true,
        "id": "ww5314UNFd-x"
      },
      "execution_count": null,
      "outputs": []
    },
    {
      "cell_type": "code",
      "source": [
        "df_p1.shape"
      ],
      "metadata": {
        "execution": {
          "iopub.status.busy": "2022-05-14T01:19:47.955158Z",
          "iopub.execute_input": "2022-05-14T01:19:47.955547Z",
          "iopub.status.idle": "2022-05-14T01:19:47.961266Z",
          "shell.execute_reply.started": "2022-05-14T01:19:47.955501Z",
          "shell.execute_reply": "2022-05-14T01:19:47.960549Z"
        },
        "trusted": true,
        "id": "boAwjcLUFd-x"
      },
      "execution_count": null,
      "outputs": []
    },
    {
      "cell_type": "markdown",
      "source": [
        "## Extract Certain Columns"
      ],
      "metadata": {
        "id": "a1Fnu1H3Fd-x"
      }
    },
    {
      "cell_type": "code",
      "source": [
        "_certain_cols = [\"title\",\"rating\",\"calories\",\"protein\",\"fat\",\"sodium\",\"22-minute meals\",\"advance prep required\",\"alcoholic\",\"bread\",\"breakfast\",\"dinner\",\"drink\",\"drinks\",\\\n",
        "                 \"egg\",\"fall\",\"fat free\",\"healthy\",\"high fiber\",\"low cal\",\"low carb\",\"low cholesterol\",\"low fat\",\"low sodium\",\"low sugar\",\"low/no sugar\",\"lunch\",\\\n",
        "                \"meat\",\"quick & easy\",\"quick and healthy\",\"rice\",\"spring\",\"summer\",\"vegetable\",\"winter\"]"
      ],
      "metadata": {
        "execution": {
          "iopub.status.busy": "2022-05-14T01:19:47.962569Z",
          "iopub.execute_input": "2022-05-14T01:19:47.963198Z",
          "iopub.status.idle": "2022-05-14T01:19:47.972192Z",
          "shell.execute_reply.started": "2022-05-14T01:19:47.963167Z",
          "shell.execute_reply": "2022-05-14T01:19:47.971455Z"
        },
        "trusted": true,
        "id": "EzuzifTuFd-x"
      },
      "execution_count": null,
      "outputs": []
    },
    {
      "cell_type": "code",
      "source": [
        "df_p2 = df_p1[_certain_cols]"
      ],
      "metadata": {
        "execution": {
          "iopub.status.busy": "2022-05-14T01:19:47.973535Z",
          "iopub.execute_input": "2022-05-14T01:19:47.974061Z",
          "iopub.status.idle": "2022-05-14T01:19:47.985126Z",
          "shell.execute_reply.started": "2022-05-14T01:19:47.974004Z",
          "shell.execute_reply": "2022-05-14T01:19:47.984415Z"
        },
        "trusted": true,
        "id": "cuQlUf_GFd-y"
      },
      "execution_count": null,
      "outputs": []
    },
    {
      "cell_type": "markdown",
      "source": [
        "## Add Recipe Information"
      ],
      "metadata": {
        "id": "L7itwoSMFd-y"
      }
    },
    {
      "cell_type": "code",
      "source": [
        "full_recipe[0]"
      ],
      "metadata": {
        "_kg_hide-output": true,
        "scrolled": true,
        "execution": {
          "iopub.status.busy": "2022-05-14T01:19:47.986307Z",
          "iopub.execute_input": "2022-05-14T01:19:47.986962Z",
          "iopub.status.idle": "2022-05-14T01:19:47.996105Z",
          "shell.execute_reply.started": "2022-05-14T01:19:47.986917Z",
          "shell.execute_reply": "2022-05-14T01:19:47.995519Z"
        },
        "trusted": true,
        "id": "uHfUBLSSFd-y"
      },
      "execution_count": null,
      "outputs": []
    },
    {
      "cell_type": "code",
      "source": [
        "def get_recipe_info(recipe_title):\n",
        "    recipe_dic = [i for i in full_recipe if \"title\" in i.keys() and i[\"title\"]==recipe_title]\n",
        "    if len(recipe_dic) == 0:\n",
        "        return pd.Series({\"len_directions\":None, \"len_ingredients\":None})\n",
        "    else:\n",
        "        recipe_dic = recipe_dic[0]\n",
        "    len_directions = len(recipe_dic[\"directions\"])\n",
        "    len_ingredients = len(recipe_dic[\"ingredients\"])\n",
        "    return pd.Series({\"len_directions\":len_directions, \"len_ingredients\":len_ingredients})"
      ],
      "metadata": {
        "execution": {
          "iopub.status.busy": "2022-05-14T01:19:47.997033Z",
          "iopub.execute_input": "2022-05-14T01:19:47.997591Z",
          "iopub.status.idle": "2022-05-14T01:19:48.005678Z",
          "shell.execute_reply.started": "2022-05-14T01:19:47.997556Z",
          "shell.execute_reply": "2022-05-14T01:19:48.004806Z"
        },
        "trusted": true,
        "id": "xxEzuz77Fd-y"
      },
      "execution_count": null,
      "outputs": []
    },
    {
      "cell_type": "code",
      "source": [
        "df_p2[[\"len_directions\",\"len_ingredients\"]] = df_p2.title.parallel_apply(lambda x : get_recipe_info(x))"
      ],
      "metadata": {
        "_kg_hide-output": true,
        "execution": {
          "iopub.status.busy": "2022-05-14T01:19:48.006554Z",
          "iopub.execute_input": "2022-05-14T01:19:48.006793Z",
          "iopub.status.idle": "2022-05-14T01:20:54.299453Z",
          "shell.execute_reply.started": "2022-05-14T01:19:48.006766Z",
          "shell.execute_reply": "2022-05-14T01:20:54.298416Z"
        },
        "trusted": true,
        "id": "f42MjmaXFd-y"
      },
      "execution_count": null,
      "outputs": []
    },
    {
      "cell_type": "code",
      "source": [
        "df_p2.head(3)"
      ],
      "metadata": {
        "execution": {
          "iopub.status.busy": "2022-05-14T01:20:54.301436Z",
          "iopub.execute_input": "2022-05-14T01:20:54.301696Z",
          "iopub.status.idle": "2022-05-14T01:20:54.332089Z",
          "shell.execute_reply.started": "2022-05-14T01:20:54.301637Z",
          "shell.execute_reply": "2022-05-14T01:20:54.331445Z"
        },
        "trusted": true,
        "id": "pUSB0B3vFd-y"
      },
      "execution_count": null,
      "outputs": []
    },
    {
      "cell_type": "markdown",
      "source": [
        "<button class=\"label alert-success\" style=\"border-radius:10px;padding:10px;font-size:18px\"><a href=\"#top\" style=\"color:green;\"><b>Table of Contents</b></a></button>"
      ],
      "metadata": {
        "id": "LW3_Jro2Fd-y"
      }
    },
    {
      "cell_type": "markdown",
      "source": [
        "# EDA"
      ],
      "metadata": {
        "id": "gc6cx85bFd-y"
      }
    },
    {
      "cell_type": "markdown",
      "source": [
        "## Basic Information"
      ],
      "metadata": {
        "id": "I2-_BguFFd-y"
      }
    },
    {
      "cell_type": "markdown",
      "source": [
        "Number of Recipes"
      ],
      "metadata": {
        "id": "WXXzWFwmFd-y"
      }
    },
    {
      "cell_type": "code",
      "source": [
        "len(df_p2.title.unique())"
      ],
      "metadata": {
        "execution": {
          "iopub.status.busy": "2022-05-20T00:19:01.783843Z",
          "iopub.execute_input": "2022-05-20T00:19:01.784181Z",
          "iopub.status.idle": "2022-05-20T00:19:01.810755Z",
          "shell.execute_reply.started": "2022-05-20T00:19:01.784146Z",
          "shell.execute_reply": "2022-05-20T00:19:01.809436Z"
        },
        "trusted": true,
        "id": "slX42nDBFd-y"
      },
      "execution_count": null,
      "outputs": []
    },
    {
      "cell_type": "markdown",
      "source": [
        "Columns"
      ],
      "metadata": {
        "id": "oj51aWW1Fd-y"
      }
    },
    {
      "cell_type": "code",
      "source": [
        "list(df_p2.columns)"
      ],
      "metadata": {
        "_kg_hide-input": false,
        "scrolled": true,
        "_kg_hide-output": true,
        "execution": {
          "iopub.status.busy": "2022-05-20T00:19:01.812903Z",
          "iopub.execute_input": "2022-05-20T00:19:01.813558Z",
          "iopub.status.idle": "2022-05-20T00:19:01.820137Z",
          "shell.execute_reply.started": "2022-05-20T00:19:01.813519Z",
          "shell.execute_reply": "2022-05-20T00:19:01.819309Z"
        },
        "trusted": true,
        "id": "C6056iIhFd-y"
      },
      "execution_count": null,
      "outputs": []
    },
    {
      "cell_type": "markdown",
      "source": [
        "## Rating"
      ],
      "metadata": {
        "id": "0eptdr29Fd-y"
      }
    },
    {
      "cell_type": "markdown",
      "source": [
        "average rating"
      ],
      "metadata": {
        "id": "z9-f00VUFd-y"
      }
    },
    {
      "cell_type": "code",
      "source": [
        "df_p2.rating.mean()"
      ],
      "metadata": {
        "execution": {
          "iopub.status.busy": "2022-05-20T00:19:01.821425Z",
          "iopub.execute_input": "2022-05-20T00:19:01.821681Z",
          "iopub.status.idle": "2022-05-20T00:19:01.837688Z",
          "shell.execute_reply.started": "2022-05-20T00:19:01.82165Z",
          "shell.execute_reply": "2022-05-20T00:19:01.836393Z"
        },
        "trusted": true,
        "id": "uGnW2lExFd-y"
      },
      "execution_count": null,
      "outputs": []
    },
    {
      "cell_type": "code",
      "source": [
        "hv.Distribution(df_p2.rating).opts(opts.Distribution(title=\"Distribution of Rating\",tools=['hover'],show_grid=True)) + \\\n",
        "hv.BoxWhisker(df_p2.rating).opts(opts.BoxWhisker(title=\"Rating BoxPlot\",tools=['hover'],show_grid=True))"
      ],
      "metadata": {
        "_kg_hide-input": true,
        "execution": {
          "iopub.status.busy": "2022-05-20T00:19:01.840252Z",
          "iopub.execute_input": "2022-05-20T00:19:01.840569Z",
          "iopub.status.idle": "2022-05-20T00:19:03.434051Z",
          "shell.execute_reply.started": "2022-05-20T00:19:01.840533Z",
          "shell.execute_reply": "2022-05-20T00:19:03.43315Z"
        },
        "trusted": true,
        "id": "lK38s8ORFd-y"
      },
      "execution_count": null,
      "outputs": []
    },
    {
      "cell_type": "markdown",
      "source": [
        "<button class=\"label alert-success\" style=\"border-radius:10px;padding:10px;font-size:18px\"><a href=\"#top\" style=\"color:green;\"><b>Table of Contents</b></a></button>"
      ],
      "metadata": {
        "id": "8IbooaCqFd_D"
      }
    },
    {
      "cell_type": "markdown",
      "source": [
        "## Nutrients"
      ],
      "metadata": {
        "id": "5gcbicqnFd_E"
      }
    },
    {
      "cell_type": "markdown",
      "source": [
        "average nutrients"
      ],
      "metadata": {
        "id": "YZZTlkTLFd_E"
      }
    },
    {
      "cell_type": "code",
      "source": [
        "df_p2[[\"calories\",\"protein\",\"fat\",\"sodium\"]].mean()"
      ],
      "metadata": {
        "execution": {
          "iopub.status.busy": "2022-05-20T00:19:03.435377Z",
          "iopub.execute_input": "2022-05-20T00:19:03.435697Z",
          "iopub.status.idle": "2022-05-20T00:19:03.450594Z",
          "shell.execute_reply.started": "2022-05-20T00:19:03.435655Z",
          "shell.execute_reply": "2022-05-20T00:19:03.449895Z"
        },
        "trusted": true,
        "id": "N7VhlvDWFd_E"
      },
      "execution_count": null,
      "outputs": []
    },
    {
      "cell_type": "code",
      "source": [
        "g1 = hv.BoxWhisker(df_p2.calories).opts(opts.BoxWhisker(title=\"calories\"))\n",
        "g2 = hv.BoxWhisker(df_p2.protein).opts(opts.BoxWhisker(title=\"protein\"))\n",
        "g3 = hv.BoxWhisker(df_p2.fat).opts(opts.BoxWhisker(title=\"fat\"))\n",
        "g4 = hv.BoxWhisker(df_p2.sodium).opts(opts.BoxWhisker(title=\"sodium\"))\n",
        "\n",
        "(g1+g2+g3+g4).opts(opts.BoxWhisker(width=300, ylabel=\"value\",tools=['hover'],show_grid=True)).opts(shared_axes=False).cols(2)"
      ],
      "metadata": {
        "_kg_hide-input": true,
        "execution": {
          "iopub.status.busy": "2022-05-20T00:19:03.451834Z",
          "iopub.execute_input": "2022-05-20T00:19:03.452719Z",
          "iopub.status.idle": "2022-05-20T00:19:05.224373Z",
          "shell.execute_reply.started": "2022-05-20T00:19:03.452683Z",
          "shell.execute_reply": "2022-05-20T00:19:05.223646Z"
        },
        "trusted": true,
        "id": "pqEhCljOFd_E"
      },
      "execution_count": null,
      "outputs": []
    },
    {
      "cell_type": "markdown",
      "source": [
        "## Flags"
      ],
      "metadata": {
        "id": "qskIzzolFd_E"
      }
    },
    {
      "cell_type": "code",
      "source": [
        "tmp = df_p2.drop([\"title\",\"rating\",\"calories\",\"protein\",\"fat\",\"sodium\",\"len_directions\",\"len_ingredients\"], axis=1)\n",
        "p = pd.DataFrame()\n",
        "for c in tmp.columns:\n",
        "    _tmp = tmp[c].value_counts(normalize=True) * 100\n",
        "    p = pd.concat([p,_tmp], axis=1)\n",
        "t = pd.melt(p.reset_index(), ['index'])\n",
        "\n",
        "g1 = hv.Bars(t.query(\"variable in ['bread','rice','meat','egg','drink','drinks','alcoholic','vegetable']\"), ['variable','index'], 'value').opts(title='Ingredients')\n",
        "g2 = hv.Bars(t.query(\"variable in ['spring','summer','fall','winter']\"), ['variable','index'], 'value').opts(title='Season')\n",
        "g3 = hv.Bars(t.query(\"variable in ['breakfast','lunch','dinner']\"), ['variable','index'], 'value').opts(title='Eat Timing')\n",
        "g4 = hv.Bars(t.query(\"variable in ['22-minute meals','advance prep required','quick & easy','quick and healthy']\"), ['variable','index'], 'value')\\\n",
        "    .opts(title='Cooking Categories')\n",
        "g5 = hv.Bars(t.query(\"variable in ['healthy','fat free','high fiber','low cal','low carb','low cholesterol','low fat','low sodium','low sugar','low/no sugar']\"), \\\n",
        "             ['variable','index'], 'value').opts(title='Recipe Categories')\n",
        "\n",
        "(g1+g2+g3+g4+g5)\\\n",
        "    .opts(opts.Bars(width=250, height=400,invert_axes=True,stacked=True,legend_position='bottom',tools=['hover'],show_grid=True,xlabel=\"\",ylabel=\"\",fontsize={'title':10}))\\\n",
        "    .opts(shared_axes=False).cols(3)"
      ],
      "metadata": {
        "_kg_hide-input": true,
        "execution": {
          "iopub.status.busy": "2022-05-20T00:19:05.225682Z",
          "iopub.execute_input": "2022-05-20T00:19:05.22612Z",
          "iopub.status.idle": "2022-05-20T00:19:06.643714Z",
          "shell.execute_reply.started": "2022-05-20T00:19:05.226087Z",
          "shell.execute_reply": "2022-05-20T00:19:06.642886Z"
        },
        "trusted": true,
        "id": "SKLCohxaFd_E"
      },
      "execution_count": null,
      "outputs": []
    },
    {
      "cell_type": "markdown",
      "source": [
        "<button class=\"label alert-success\" style=\"border-radius:10px;padding:10px;font-size:18px\"><a href=\"#top\" style=\"color:green;\"><b>Table of Contents</b></a></button>"
      ],
      "metadata": {
        "id": "z2xtT3rfFd_E"
      }
    },
    {
      "cell_type": "markdown",
      "source": [
        "## Other Information"
      ],
      "metadata": {
        "id": "GOwPsdgSFd_E"
      }
    },
    {
      "cell_type": "code",
      "source": [
        "df_p2[[\"len_directions\",\"len_ingredients\"]].mean()"
      ],
      "metadata": {
        "execution": {
          "iopub.status.busy": "2022-05-20T00:19:06.645252Z",
          "iopub.execute_input": "2022-05-20T00:19:06.645504Z",
          "iopub.status.idle": "2022-05-20T00:19:06.65892Z",
          "shell.execute_reply.started": "2022-05-20T00:19:06.645473Z",
          "shell.execute_reply": "2022-05-20T00:19:06.657891Z"
        },
        "trusted": true,
        "id": "mOvzhD0yFd_E"
      },
      "execution_count": null,
      "outputs": []
    },
    {
      "cell_type": "code",
      "source": [
        "g1 = hv.BoxWhisker(df_p2.len_directions).opts(opts.BoxWhisker(title=\"directions\"))\n",
        "g2 = hv.BoxWhisker(df_p2.len_ingredients).opts(opts.BoxWhisker(title=\"ingredients\"))\n",
        "\n",
        "(g1+g2).opts(opts.BoxWhisker(width=300, ylabel=\"value\",tools=['hover'],show_grid=True)).opts(shared_axes=False).cols(2)"
      ],
      "metadata": {
        "_kg_hide-input": true,
        "execution": {
          "iopub.status.busy": "2022-05-20T00:19:06.662428Z",
          "iopub.execute_input": "2022-05-20T00:19:06.662682Z",
          "iopub.status.idle": "2022-05-20T00:19:07.6005Z",
          "shell.execute_reply.started": "2022-05-20T00:19:06.662653Z",
          "shell.execute_reply": "2022-05-20T00:19:07.599482Z"
        },
        "trusted": true,
        "id": "lflai5VMFd_E"
      },
      "execution_count": null,
      "outputs": []
    },
    {
      "cell_type": "markdown",
      "source": [
        "<button class=\"label alert-success\" style=\"border-radius:10px;padding:10px;font-size:18px\"><a href=\"#top\" style=\"color:green;\"><b>Table of Contents</b></a></button>"
      ],
      "metadata": {
        "id": "Rq5VF34NFd_F"
      }
    },
    {
      "cell_type": "markdown",
      "source": [
        "# Recommendation"
      ],
      "metadata": {
        "id": "6eybfmQYFd_F"
      }
    },
    {
      "cell_type": "markdown",
      "source": [
        "## Recommendation Function"
      ],
      "metadata": {
        "id": "Do-7OjYtFd_F"
      }
    },
    {
      "cell_type": "code",
      "source": [
        "def recipe_recommend(df, number_of_dishes, number_of_candidates, nut_conf):\n",
        "    tmp = df.copy()\n",
        "    candidates_list = []\n",
        "\n",
        "    # create recommend-list {number_of_candidates} times\n",
        "    for i in range(0,number_of_candidates):\n",
        "        m = pl.LpProblem(sense=pl.LpMaximize)\n",
        "        tmp.loc[:,'v'] = [pl.LpVariable('x%d'%i, cat=pl.LpBinary) for i in range(len(tmp))]\n",
        "\n",
        "        # maximize rating\n",
        "        m += pl.lpDot(tmp[\"rating\"], tmp[\"v\"])\n",
        "\n",
        "        # limit the number of recipes\n",
        "        m += pl.lpSum(tmp[\"v\"]) <= number_of_dishes\n",
        "\n",
        "        # limit the calories\n",
        "        m += pl.lpDot(tmp[\"calories\"], tmp[\"v\"]) >= nut_conf[\"cal_lo\"]\n",
        "        m += pl.lpDot(tmp[\"calories\"], tmp[\"v\"]) <= nut_conf[\"cal_up\"]\n",
        "\n",
        "        # limit the protein\n",
        "        m += pl.lpDot(tmp[\"protein\"], tmp[\"v\"]) >= nut_conf[\"pro_lo\"]\n",
        "        m += pl.lpDot(tmp[\"protein\"], tmp[\"v\"]) <= nut_conf[\"pro_up\"]\n",
        "\n",
        "        # limit the fat (sum of fat / calories)\n",
        "        m += pl.lpDot(tmp[\"fat\"], tmp[\"v\"]) >= nut_conf[\"fat_lo\"]\n",
        "        m += pl.lpDot(tmp[\"fat\"], tmp[\"v\"]) <= nut_conf[\"fat_up\"]\n",
        "\n",
        "        # limit the sodium\n",
        "        m += pl.lpDot(tmp[\"sodium\"], tmp[\"v\"]) >= nut_conf[\"sod_lo\"]\n",
        "        m += pl.lpDot(tmp[\"sodium\"], tmp[\"v\"]) <= nut_conf[\"sod_up\"]\n",
        "\n",
        "        m.solve(pl.PULP_CBC_CMD(msg=0, options=['maxsol 1']))\n",
        "\n",
        "        if m.status == 1:\n",
        "            tmp.loc[:,'val'] = tmp[\"v\"].apply(lambda x: pl.value(x))\n",
        "            ret = tmp.query('val==1')[\"title\"].values\n",
        "            candidates_list.append(ret)\n",
        "            # update dataframe (remove recommended title )\n",
        "            tmp = tmp.query('val==0')\n",
        "\n",
        "    return candidates_list"
      ],
      "metadata": {
        "execution": {
          "iopub.status.busy": "2022-05-20T00:19:07.603342Z",
          "iopub.execute_input": "2022-05-20T00:19:07.603607Z",
          "iopub.status.idle": "2022-05-20T00:19:07.618588Z",
          "shell.execute_reply.started": "2022-05-20T00:19:07.603577Z",
          "shell.execute_reply": "2022-05-20T00:19:07.61737Z"
        },
        "trusted": true,
        "id": "KJrKAIc5Fd_F"
      },
      "execution_count": null,
      "outputs": []
    },
    {
      "cell_type": "markdown",
      "source": [
        "<button class=\"label alert-success\" style=\"border-radius:10px;padding:10px;font-size:18px\"><a href=\"#top\" style=\"color:green;\"><b>Table of Contents</b></a></button>"
      ],
      "metadata": {
        "id": "ChoRPOoSFd_F"
      }
    },
    {
      "cell_type": "markdown",
      "source": [
        "## Nutrients Condition\n",
        "consider upper/lower nutrients for male / female  \n",
        "https://www.otsuka.co.jp/cmt/nutrition/1day/"
      ],
      "metadata": {
        "id": "S5cQNI9sFd_F"
      }
    },
    {
      "cell_type": "markdown",
      "source": [
        "### Male"
      ],
      "metadata": {
        "id": "kn1BaetzFd_F"
      }
    },
    {
      "cell_type": "code",
      "source": [
        "# Daily\n",
        "male_japanese_day = {\n",
        "    \"cal_up\" : 2700,\n",
        "    \"cal_lo\" : 2600,\n",
        "    \"pro_up\" : 65,\n",
        "    \"pro_lo\" : 60,\n",
        "    \"fat_up\" : 30,\n",
        "    \"fat_lo\" : 20,\n",
        "    \"sod_up\" : 7500,\n",
        "    \"sod_lo\" : 7000\n",
        "}\n",
        "# Daily => 3 x meals\n",
        "## 1 meal => Daily / 3\n",
        "male_japanese_each = { k:v/3 for k, v in male_japanese_day.items() }\n",
        "\n",
        "print(\"### Nutrients Conditions ###\")\n",
        "print(f\"{np.round(male_japanese_each['cal_lo'],1)} =< calory <= {np.round(male_japanese_each['cal_up'],1)}\")\n",
        "print(f\"{np.round(male_japanese_each['pro_lo'],1)} =< protain <= {np.round(male_japanese_each['pro_up'],1)}\")\n",
        "print(f\"{np.round(male_japanese_each['fat_lo'],1)} =< fat <= {np.round(male_japanese_each['fat_up'],1)}\")\n",
        "print(f\"{np.round(male_japanese_each['sod_lo'],1)} =< sodium <= {np.round(male_japanese_each['sod_up'],1)}\")"
      ],
      "metadata": {
        "execution": {
          "iopub.status.busy": "2022-05-20T00:19:07.620317Z",
          "iopub.execute_input": "2022-05-20T00:19:07.620563Z",
          "iopub.status.idle": "2022-05-20T00:19:07.642074Z",
          "shell.execute_reply.started": "2022-05-20T00:19:07.620525Z",
          "shell.execute_reply": "2022-05-20T00:19:07.640673Z"
        },
        "trusted": true,
        "id": "dSstmlxmFd_F"
      },
      "execution_count": null,
      "outputs": []
    },
    {
      "cell_type": "markdown",
      "source": [
        "### Female"
      ],
      "metadata": {
        "id": "vrHUVllrFd_F"
      }
    },
    {
      "cell_type": "code",
      "source": [
        "# Daily\n",
        "female_japanese_day = {\n",
        "    \"cal_up\" : 2000,\n",
        "    \"cal_lo\" : 1950,\n",
        "    \"pro_up\" : 50,\n",
        "    \"pro_lo\" : 45,\n",
        "    \"fat_up\" : 30,\n",
        "    \"fat_lo\" : 20,\n",
        "    \"sod_up\" : 7500,\n",
        "    \"sod_lo\" : 7000\n",
        "}\n",
        "# Daily => 3 x meals\n",
        "## 1 meal => Daily / 3\n",
        "female_japanese_each = { k:v/3 for k, v in female_japanese_day.items() }\n",
        "\n",
        "print(\"### Nutrients Conditions ###\")\n",
        "print(f\"{np.round(female_japanese_each['cal_lo'],1)} =< calory <= {np.round(female_japanese_each['cal_up'],1)}\")\n",
        "print(f\"{np.round(female_japanese_each['pro_lo'],1)} =< protain <= {np.round(female_japanese_each['pro_up'],1)}\")\n",
        "print(f\"{np.round(female_japanese_each['fat_lo'],1)} =< fat <= {np.round(female_japanese_each['fat_up'],1)}\")\n",
        "print(f\"{np.round(female_japanese_each['sod_lo'],1)} =< sodium <= {np.round(female_japanese_each['sod_up'],1)}\")"
      ],
      "metadata": {
        "execution": {
          "iopub.status.busy": "2022-05-20T00:19:07.644308Z",
          "iopub.execute_input": "2022-05-20T00:19:07.644691Z",
          "iopub.status.idle": "2022-05-20T00:19:07.660901Z",
          "shell.execute_reply.started": "2022-05-20T00:19:07.644655Z",
          "shell.execute_reply": "2022-05-20T00:19:07.659872Z"
        },
        "trusted": true,
        "id": "J7rZpB3wFd_F"
      },
      "execution_count": null,
      "outputs": []
    },
    {
      "cell_type": "markdown",
      "source": [
        "<button class=\"label alert-success\" style=\"border-radius:10px;padding:10px;font-size:18px\"><a href=\"#top\" style=\"color:green;\"><b>Table of Contents</b></a></button>"
      ],
      "metadata": {
        "id": "x9eRF2nxFd_F"
      }
    },
    {
      "cell_type": "markdown",
      "source": [
        "## Recipes for YOU"
      ],
      "metadata": {
        "id": "_0sG4aQ1Fd_F"
      }
    },
    {
      "cell_type": "markdown",
      "source": [
        "### Adult Male"
      ],
      "metadata": {
        "id": "wx939yNOFd_F"
      }
    },
    {
      "cell_type": "code",
      "source": [
        "male_recipes = recipe_recommend(df_p2, 3, 5, male_japanese_each)\n",
        "for i, j in enumerate(male_recipes):\n",
        "    print(f\"{i} : \" + \" + \".join(j))"
      ],
      "metadata": {
        "execution": {
          "iopub.status.busy": "2022-05-20T00:19:07.662354Z",
          "iopub.execute_input": "2022-05-20T00:19:07.663294Z",
          "iopub.status.idle": "2022-05-20T00:19:31.637604Z",
          "shell.execute_reply.started": "2022-05-20T00:19:07.663251Z",
          "shell.execute_reply": "2022-05-20T00:19:31.636557Z"
        },
        "trusted": true,
        "id": "O3JuRoAQFd_F"
      },
      "execution_count": null,
      "outputs": []
    },
    {
      "cell_type": "markdown",
      "source": [
        "<b>0 : Asian Barbecue Sauce  + Yam and Black Bean Burritos with Amaranth  + Mango and Red Onion Salsa </b>\n",
        "<table>\n",
        "    <tr>\n",
        "        <td>\n",
        "            <img src=\"https://assets.epicurious.com/photos/57c5b0b9354f42d45822eacd/16:9/w_1280,c_limit/asian-barbecue-sauce.jpg\" width=\"300\">\n",
        "            <figcaption>Asian Barbecue Sauce</figcaption>\n",
        "        </td>\n",
        "        <td>\n",
        "            <img src=\"https://togetherwomenrise.org/wp-content/uploads/2015/12/RECIPE-0116-Burrito.jpg\" width=\"300\">\n",
        "            <figcaption>Yam and Black Bean Burritos with Amaranth</figcaption>\n",
        "        </td>\n",
        "        <td>\n",
        "            <img src=\"https://cookieandkate.com/images/2015/04/fresh-mango-salsa-recipe-1.jpg\" width=\"300\">\n",
        "            <figcaption>Mango and Red Onion Salsa</figcaption>\n",
        "        </td>\n",
        "    </tr>\n",
        "</table>"
      ],
      "metadata": {
        "id": "ydguWBElFd_G"
      }
    },
    {
      "cell_type": "markdown",
      "source": [
        "### Adult Female"
      ],
      "metadata": {
        "id": "ABEktBQ7Fd_G"
      }
    },
    {
      "cell_type": "code",
      "source": [
        "female_recipes = recipe_recommend(df_p2, 3, 5, female_japanese_each)\n",
        "for i, j in enumerate(female_recipes):\n",
        "    print(f\"{i} : \" + \" + \".join(j))"
      ],
      "metadata": {
        "execution": {
          "iopub.status.busy": "2022-05-20T00:19:31.639264Z",
          "iopub.execute_input": "2022-05-20T00:19:31.639548Z",
          "iopub.status.idle": "2022-05-20T00:19:56.135091Z",
          "shell.execute_reply.started": "2022-05-20T00:19:31.639513Z",
          "shell.execute_reply": "2022-05-20T00:19:56.13402Z"
        },
        "trusted": true,
        "id": "EON1CwhMFd_G"
      },
      "execution_count": null,
      "outputs": []
    },
    {
      "cell_type": "markdown",
      "source": [
        "<b>0 : Yemeni Spice Rub  + Berry-Yogurt Smoothie  + Plum Freezer Jam With Cardamom and Ginger </b>\n",
        "<table>\n",
        "    <tr>\n",
        "        <td>\n",
        "            <img src=\"https://assets.epicurious.com/photos/5b2a903acd6f065408f725a9/4:3/w_779,h_584,c_limit/yemeni-spice-rub-recipe-062018.jpg\" width=\"300\">\n",
        "            <figcaption>Yemeni Spice Rub</figcaption>\n",
        "        </td>\n",
        "        <td>\n",
        "            <img src=\"https://simple-veganista.com/wp-content/uploads/2017/07/mixed-berry-yogurt-smoothie-2.jpg\" width=\"300\">\n",
        "            <figcaption>Berry-Yogurt Smoothie</figcaption>\n",
        "        </td>\n",
        "        <td>\n",
        "            <img src=\"https://assets.epicurious.com/photos/55f72d1ee7f5be0c7ccb6e91/5:4/w_3140,h_2512,c_limit/EP_09112015_jam_recipeimage.jpg\" width=\"300\">\n",
        "            <figcaption>Plum Freezer Jam With Cardamom and Ginger</figcaption>\n",
        "        </td>\n",
        "    </tr>\n",
        "</table>"
      ],
      "metadata": {
        "id": "eG6XKgySFd_G"
      }
    },
    {
      "cell_type": "markdown",
      "source": [
        "<button class=\"label alert-success\" style=\"border-radius:10px;padding:10px;font-size:18px\"><a href=\"#top\" style=\"color:green;\"><b>Table of Contents</b></a></button>"
      ],
      "metadata": {
        "id": "JmQGWpfhFd_G"
      }
    },
    {
      "cell_type": "markdown",
      "source": [
        "### Man in Summer"
      ],
      "metadata": {
        "id": "yFc5wZUPFd_G"
      }
    },
    {
      "cell_type": "code",
      "source": [
        "male_recipes = recipe_recommend(df_p2.query(\"summer==1\"), 3, 5, male_japanese_each)\n",
        "for i, j in enumerate(male_recipes):\n",
        "    print(f\"{i} : \" + \" + \".join(j))"
      ],
      "metadata": {
        "execution": {
          "iopub.status.busy": "2022-05-20T00:19:56.136812Z",
          "iopub.execute_input": "2022-05-20T00:19:56.13773Z",
          "iopub.status.idle": "2022-05-20T00:20:01.28418Z",
          "shell.execute_reply.started": "2022-05-20T00:19:56.137524Z",
          "shell.execute_reply": "2022-05-20T00:20:01.282177Z"
        },
        "trusted": true,
        "id": "V9dXbv7UFd_G"
      },
      "execution_count": null,
      "outputs": []
    },
    {
      "cell_type": "markdown",
      "source": [
        "<b>2 : Plain Hamburgers  + Rum Punch with Passion Fruit and Lime  + Soy-Lime Dipping Sauce </b>\n",
        "<table>\n",
        "    <tr>\n",
        "        <td>\n",
        "            <img src=\"https://media.istockphoto.com/photos/plain-hamburger-picture-id155352091?k=20&m=155352091&s=612x612&w=0&h=DO2yEZWHr2Aik5IHgqKX7EZebgZctamoMG0Adw7LbwM=\" width=\"300\">\n",
        "            <figcaption>Plain Hamburgers</figcaption>\n",
        "        </td>\n",
        "        <td>\n",
        "            <img src=\"https://www.livinglocurto.com/wp-content/uploads/2019/03/Tropical-Passion-Fruit-Rum-Punch-Cocktail-Recipe.jpg\" width=\"300\">\n",
        "            <figcaption>Rum Punch with Passion Fruit and Lime</figcaption>\n",
        "        </td>\n",
        "        <td>\n",
        "            <img src=\"https://ucarecdn.com/096e1cd5-a853-4cf8-9169-309cf591fa1e/-/scale_crop/1280x720/center/-/quality/normal/-/format/jpeg/soy-lime-sauce.jpg\" width=\"300\">\n",
        "            <figcaption>Soy-Lime Dipping Sauce</figcaption>\n",
        "        </td>\n",
        "    </tr>\n",
        "</table>"
      ],
      "metadata": {
        "id": "0Hg15XOnFd_G"
      }
    },
    {
      "cell_type": "markdown",
      "source": [
        "### Man in Winter"
      ],
      "metadata": {
        "id": "gzrlKrDDFd_G"
      }
    },
    {
      "cell_type": "code",
      "source": [
        "male_recipes = recipe_recommend(df_p2.query(\"winter==1\"), 3, 5, male_japanese_each)\n",
        "for i, j in enumerate(male_recipes):\n",
        "    print(f\"{i} : \" + \" + \".join(j))"
      ],
      "metadata": {
        "execution": {
          "iopub.status.busy": "2022-05-20T00:20:01.286189Z",
          "iopub.execute_input": "2022-05-20T00:20:01.287465Z",
          "iopub.status.idle": "2022-05-20T00:20:05.709256Z",
          "shell.execute_reply.started": "2022-05-20T00:20:01.287405Z",
          "shell.execute_reply": "2022-05-20T00:20:05.708154Z"
        },
        "trusted": true,
        "id": "vkgH5fY8Fd_G"
      },
      "execution_count": null,
      "outputs": []
    },
    {
      "cell_type": "markdown",
      "source": [
        "<b>0 : Prunes in Wine and Armagnac  + White Bean, Pasta and Roasted Pepper Soup  + Mustard-Roasted Potatoes </b>\n",
        "<table>\n",
        "    <tr>\n",
        "        <td>\n",
        "            <img src=\"https://assets.marthastewart.com/styles/wmax-300/d16/prunes-mld107879/prunes-mld107879_vert.jpg?itok=1M1_dui0\" width=\"300\">\n",
        "            <figcaption>Prunes in Wine and Armagnac</figcaption>\n",
        "        </td>\n",
        "        <td>\n",
        "            <img src=\"https://imagesvc.meredithcorp.io/v3/mm/image?url=https%3A%2F%2Fstatic.onecms.io%2Fwp-content%2Fuploads%2Fsites%2F44%2F2021%2F10%2F22%2Fpasta-and-white-bean-soup.jpg&q=60\" width=\"300\">\n",
        "            <figcaption>White Bean, Pasta and Roasted Pepper Soup</figcaption>\n",
        "        </td>\n",
        "        <td>\n",
        "            <img src=\"https://food.fnr.sndimg.com/content/dam/images/food/fullset/2012/9/19/0/BX0705H_mustard-roasted-potatoes_s4x3.jpg.rend.hgtvcom.616.462.suffix/1371611490384.jpeg\" width=\"300\">\n",
        "            <figcaption>Mustard-Roasted Potatoes</figcaption>\n",
        "        </td>\n",
        "    </tr>\n",
        "</table>"
      ],
      "metadata": {
        "id": "-dL0NL3gFd_G"
      }
    },
    {
      "cell_type": "markdown",
      "source": [
        "<button class=\"label alert-success\" style=\"border-radius:10px;padding:10px;font-size:18px\"><a href=\"#top\" style=\"color:green;\"><b>Table of Contents</b></a></button>"
      ],
      "metadata": {
        "id": "ny9QPPt_Fd_G"
      }
    },
    {
      "cell_type": "markdown",
      "source": [
        "### Man at Breakfast"
      ],
      "metadata": {
        "id": "TT0GP9CKFd_G"
      }
    },
    {
      "cell_type": "code",
      "source": [
        "male_recipes = recipe_recommend(df_p2.query(\"breakfast==1\"), 3, 5, male_japanese_each)\n",
        "for i, j in enumerate(male_recipes):\n",
        "    print(f\"{i} : \" + \" + \".join(j))"
      ],
      "metadata": {
        "execution": {
          "iopub.status.busy": "2022-05-20T00:20:05.710874Z",
          "iopub.execute_input": "2022-05-20T00:20:05.711175Z",
          "iopub.status.idle": "2022-05-20T00:20:06.442629Z",
          "shell.execute_reply.started": "2022-05-20T00:20:05.711139Z",
          "shell.execute_reply": "2022-05-20T00:20:06.441816Z"
        },
        "trusted": true,
        "id": "LxQ2mKizFd_G"
      },
      "execution_count": null,
      "outputs": []
    },
    {
      "cell_type": "markdown",
      "source": [
        "<b>0 : Cinnamon Oat Cakes  + Strawberry Jam  + Coffee and Molasses Cured Duck Breast Bacon </b>\n",
        "<table>\n",
        "    <tr>\n",
        "        <td>\n",
        "            <img src=\"https://www.momendeavors.com/wp-content/uploads/2019/11/Cinnamon-Apple-Oatmeal-Cake.jpg\" width=\"300\">\n",
        "            <figcaption>Cinnamon Oat Cakes</figcaption>\n",
        "        </td>\n",
        "        <td>\n",
        "            <img src=\"https://thecozyapron.com/wp-content/uploads/2019/07/strawberry-jam_thecozyapron_1.jpg\" width=\"300\">\n",
        "            <figcaption>Strawberry Jam</figcaption>\n",
        "        </td>\n",
        "        <td>\n",
        "            <img src=\"https://i8.amplience.net/i/traeger/smoked-duck-breast-bacon_Traeger-Wood-Fired-Grills_RE_HE_M?w=1200&sm=aspect&aspect=2:1&scaleFit=poi&$poi2$\" width=\"300\">\n",
        "            <figcaption>Coffee and Molasses Cured Duck Breast Bacon</figcaption>\n",
        "        </td>\n",
        "    </tr>\n",
        "</table>"
      ],
      "metadata": {
        "id": "fN4MiFm3Fd_H"
      }
    },
    {
      "cell_type": "markdown",
      "source": [
        "### Man with Low Calory"
      ],
      "metadata": {
        "id": "QVH-iYmOFd_H"
      }
    },
    {
      "cell_type": "code",
      "source": [
        "male_recipes = recipe_recommend(df_p2[df_p2[\"low cal\"]==1], 3, 5, male_japanese_each)\n",
        "for i, j in enumerate(male_recipes):\n",
        "    print(f\"{i} : \" + \" + \".join(j))"
      ],
      "metadata": {
        "execution": {
          "iopub.status.busy": "2022-05-20T00:20:06.443967Z",
          "iopub.execute_input": "2022-05-20T00:20:06.444334Z",
          "iopub.status.idle": "2022-05-20T00:20:10.920849Z",
          "shell.execute_reply.started": "2022-05-20T00:20:06.444302Z",
          "shell.execute_reply": "2022-05-20T00:20:10.919567Z"
        },
        "trusted": true,
        "id": "QVb2kGV9Fd_H"
      },
      "execution_count": null,
      "outputs": []
    },
    {
      "cell_type": "markdown",
      "source": [
        "<b>0 : Slightly Sweet Dill Refrigerator Pickles  + Homemade Chocolate Liqueur  + Shortcut Turkey Stock </b>\n",
        "<table>\n",
        "    <tr>\n",
        "        <td>\n",
        "            <img src=\"https://norrtable.com/wp-content/uploads/2021/10/IMG_9713_jpg-1-edited.jpg\" width=\"300\">\n",
        "            <figcaption>Slightly Sweet Dill Refrigerator Pickles</figcaption>\n",
        "        </td>\n",
        "        <td>\n",
        "            <img src=\"https://cookingwithmammac.com/wp-content/uploads/2019/12/Chocolate-Liqueur-Recipe-Pic.jpg\" width=\"300\">\n",
        "            <figcaption>Homemade Chocolate Liqueur</figcaption>\n",
        "        </td>\n",
        "        <td>\n",
        "            <img src=\"https://img.buzzfeed.com/buzzfeed-static/static/2013-09/enhanced/webdr05/26/16/enhanced-buzz-orig-14762-1380228460-30.jpg\" width=\"300\">\n",
        "            <figcaption>Shortcut Turkey Stock</figcaption>\n",
        "        </td>\n",
        "    </tr>\n",
        "</table>"
      ],
      "metadata": {
        "id": "LX6FFbQDFd_H"
      }
    },
    {
      "cell_type": "markdown",
      "source": [
        "<button class=\"label alert-success\" style=\"border-radius:10px;padding:10px;font-size:18px\"><a href=\"#top\" style=\"color:green;\"><b>Table of Contents</b></a></button>"
      ],
      "metadata": {
        "id": "EO0EsJGdFd_H"
      }
    },
    {
      "cell_type": "markdown",
      "source": [
        "### Man in Busy Day"
      ],
      "metadata": {
        "id": "QQ7zNJ3FFd_H"
      }
    },
    {
      "cell_type": "code",
      "source": [
        "male_recipes = recipe_recommend(df_p2.query(\"len_ingredients <= 9 and len_directions <= 3\"), 3, 5, male_japanese_each)\n",
        "for i, j in enumerate(male_recipes):\n",
        "    print(f\"{i} : \" + \" + \".join(j))"
      ],
      "metadata": {
        "execution": {
          "iopub.status.busy": "2022-05-20T00:20:10.92278Z",
          "iopub.execute_input": "2022-05-20T00:20:10.923577Z",
          "iopub.status.idle": "2022-05-20T00:20:19.34776Z",
          "shell.execute_reply.started": "2022-05-20T00:20:10.923521Z",
          "shell.execute_reply": "2022-05-20T00:20:19.346532Z"
        },
        "trusted": true,
        "id": "ROz9d8tNFd_H"
      },
      "execution_count": null,
      "outputs": []
    },
    {
      "cell_type": "markdown",
      "source": [
        "<b>0 : Chicken Stock  + Steamed Jasmine Rice  + Purple Potato, Sugar Snap Pea, and Mint Salad </b>\n",
        "<table>\n",
        "    <tr>\n",
        "        <td>\n",
        "            <img src=\"https://www.spendwithpennies.com/wp-content/uploads/2017/12/How-to-Make-Chicken-Stock-21-500x500.jpg\" width=\"300\">\n",
        "            <figcaption>Chicken Stock</figcaption>\n",
        "        </td>\n",
        "        <td>\n",
        "            <img src=\"https://img.taste.com.au/LR2_4Z3C/taste/2016/11/lemon-grass-jasmine-rice-5935-1.jpeg\" width=\"300\">\n",
        "            <figcaption>Steamed Jasmine Rice</figcaption>\n",
        "        </td>\n",
        "        <td>\n",
        "            <img src=\"https://images.ctfassets.net/uw7yiu2kuigc/7kgTMc8itJFesVCACVj47S/d57072a72e6f8d4b0490274c55e15d74/Snap-Pea-and-Potato-Salad-with-Mint-and-Honey-Lead.jpg\" width=\"300\">\n",
        "            <figcaption>Purple Potato, Sugar Snap Pea, and Mint Salad</figcaption>\n",
        "        </td>\n",
        "    </tr>\n",
        "</table>"
      ],
      "metadata": {
        "id": "hguzewDOFd_H"
      }
    },
    {
      "cell_type": "markdown",
      "source": [
        "<button class=\"label alert-success\" style=\"border-radius:10px;padding:10px;font-size:18px\"><a href=\"#top\" style=\"color:green;\"><b>Table of Contents</b></a></button>"
      ],
      "metadata": {
        "id": "RqBnZXwTFd_H"
      }
    },
    {
      "cell_type": "markdown",
      "source": [
        "# References\n",
        "<blockquote>\n",
        "    <ul>\n",
        "        <li><a href=\"https://indrag49.github.io/Numerical-Optimization/\">Introduction to Mathematical Optimization</a></li>\n",
        "        <li><a href=\"https://coin-or.github.io/pulp/\">PuLP Documentation</a></li>\n",
        "        <li><a href=\"https://www.otsuka.co.jp/cmt/nutrition/1day/\">Nutrients Conditions</a></li>\n",
        "    </ul>\n",
        "</blockquote>"
      ],
      "metadata": {
        "id": "b2PfWSaKFd_H"
      }
    },
    {
      "cell_type": "markdown",
      "source": [
        "<button class=\"label alert-success\" style=\"border-radius:10px;padding:10px;font-size:18px\"><a href=\"#top\" style=\"color:green;\"><b>Table of Contents</b></a></button>"
      ],
      "metadata": {
        "id": "rJ2kSgD3Fd_H"
      }
    }
  ]
}